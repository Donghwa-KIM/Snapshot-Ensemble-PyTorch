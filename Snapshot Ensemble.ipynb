{
 "cells": [
  {
   "cell_type": "code",
   "execution_count": 1,
   "metadata": {},
   "outputs": [],
   "source": [
    "import sys\n",
    "\n",
    "import torch\n",
    "import torch.nn as nn\n",
    "import torch.nn.functional as F\n",
    "import torch.optim as optim\n",
    "\n",
    "from torchvision import datasets, transforms\n",
    "import torchvision.models as models\n",
    "\n",
    "import numpy as np\n",
    "from tqdm import tqdm\n",
    "\n",
    "import matplotlib.pyplot as plt\n"
   ]
  },
  {
   "cell_type": "code",
   "execution_count": 2,
   "metadata": {},
   "outputs": [
    {
     "name": "stdout",
     "output_type": "stream",
     "text": [
      "Files already downloaded and verified\n"
     ]
    }
   ],
   "source": [
    "batch_size = 128\n",
    "device = torch.device('cuda' if torch.cuda.is_available() else 'cpu')\n",
    "\n",
    "# load data\n",
    "augmentation_transform = transforms.Compose([transforms.Pad(4, fill=0, padding_mode='constant'),\n",
    "                                             transforms.RandomCrop(32),\n",
    "                                             transforms.RandomHorizontalFlip(p=0.5),\n",
    "                                             transforms.ToTensor(),\n",
    "                                             transforms.Normalize((0.5, 0.5, 0.5), (0.5, 0.5, 0.5)),\n",
    "                                             ])\n",
    "\n",
    "test_transform = transforms.Compose([transforms.ToTensor(),\n",
    "                                     transforms.Normalize((0.5, 0.5, 0.5), (0.5, 0.5, 0.5))])\n",
    "\n",
    "train_loader = torch.utils.data.DataLoader(\n",
    "    datasets.CIFAR10('data/cifar10', train=True, download=True,\n",
    "                     transform=augmentation_transform),\n",
    "    batch_size=batch_size, shuffle=True)\n",
    "\n",
    "test_loader = torch.utils.data.DataLoader(\n",
    "    datasets.CIFAR10('data/cifar10', train=False, transform=test_transform),\n",
    "    batch_size=batch_size * 2, shuffle=True)"
   ]
  },
  {
   "cell_type": "code",
   "execution_count": 3,
   "metadata": {},
   "outputs": [
    {
     "data": {
      "text/plain": [
       "21279306"
      ]
     },
     "execution_count": 3,
     "metadata": {},
     "output_type": "execute_result"
    }
   ],
   "source": [
    "'''Pre-activation ResNet in PyTorch.\n",
    "\n",
    "Reference:\n",
    "[1] Kaiming He, Xiangyu Zhang, Shaoqing Ren, Jian Sun\n",
    "    Identity Mappings in Deep Residual Networks. arXiv:1603.05027\n",
    "'''\n",
    "\n",
    "\n",
    "class PreActBlock(nn.Module):\n",
    "    '''Pre-activation version of the BasicBlock.'''\n",
    "    expansion = 1\n",
    "\n",
    "    def __init__(self, in_planes, planes, stride=1):\n",
    "        super(PreActBlock, self).__init__()\n",
    "        self.bn1 = nn.BatchNorm2d(in_planes)\n",
    "        self.conv1 = nn.Conv2d(in_planes, planes, kernel_size=3, stride=stride, padding=1, bias=False)\n",
    "        self.bn2 = nn.BatchNorm2d(planes)\n",
    "        self.conv2 = nn.Conv2d(planes, planes, kernel_size=3, stride=1, padding=1, bias=False)\n",
    "\n",
    "        if stride != 1 or in_planes != self.expansion * planes:\n",
    "            self.shortcut = nn.Sequential(\n",
    "                nn.Conv2d(in_planes, self.expansion * planes, kernel_size=1, stride=stride, bias=False)\n",
    "            )\n",
    "\n",
    "    def forward(self, x):\n",
    "        out = F.relu(self.bn1(x))\n",
    "        shortcut = self.shortcut(out) if hasattr(self, 'shortcut') else x\n",
    "        out = self.conv1(out)\n",
    "        out = self.conv2(F.relu(self.bn2(out)))\n",
    "        out += shortcut\n",
    "        return out\n",
    "\n",
    "\n",
    "class PreActBottleneck(nn.Module):\n",
    "    '''Pre-activation version of the original Bottleneck module.'''\n",
    "    expansion = 4\n",
    "\n",
    "    def __init__(self, in_planes, planes, stride=1):\n",
    "        super(PreActBottleneck, self).__init__()\n",
    "        self.bn1 = nn.BatchNorm2d(in_planes)\n",
    "        self.conv1 = nn.Conv2d(in_planes, planes, kernel_size=1, bias=False)\n",
    "        self.bn2 = nn.BatchNorm2d(planes)\n",
    "        self.conv2 = nn.Conv2d(planes, planes, kernel_size=3, stride=stride, padding=1, bias=False)\n",
    "        self.bn3 = nn.BatchNorm2d(planes)\n",
    "        self.conv3 = nn.Conv2d(planes, self.expansion * planes, kernel_size=1, bias=False)\n",
    "\n",
    "        if stride != 1 or in_planes != self.expansion * planes:\n",
    "            self.shortcut = nn.Sequential(\n",
    "                nn.Conv2d(in_planes, self.expansion * planes, kernel_size=1, stride=stride, bias=False)\n",
    "            )\n",
    "\n",
    "    def forward(self, x):\n",
    "        out = F.relu(self.bn1(x))\n",
    "        shortcut = self.shortcut(out) if hasattr(self, 'shortcut') else x\n",
    "        out = self.conv1(out)\n",
    "        out = self.conv2(F.relu(self.bn2(out)))\n",
    "        out = self.conv3(F.relu(self.bn3(out)))\n",
    "        out += shortcut\n",
    "        return out\n",
    "\n",
    "\n",
    "class PreActResNet(nn.Module):\n",
    "    def __init__(self, block, num_blocks, num_classes=10):\n",
    "        super(PreActResNet, self).__init__()\n",
    "        self.in_planes = 64\n",
    "\n",
    "        self.conv1 = nn.Conv2d(3, 64, kernel_size=3, stride=1, padding=1, bias=False)\n",
    "        self.layer1 = self._make_layer(block, 64, num_blocks[0], stride=1)\n",
    "        self.layer2 = self._make_layer(block, 128, num_blocks[1], stride=2)\n",
    "        self.layer3 = self._make_layer(block, 256, num_blocks[2], stride=2)\n",
    "        self.layer4 = self._make_layer(block, 512, num_blocks[3], stride=2)\n",
    "        self.linear = nn.Linear(512 * block.expansion, num_classes)\n",
    "\n",
    "    def _make_layer(self, block, planes, num_blocks, stride):\n",
    "        strides = [stride] + [1] * (num_blocks - 1)\n",
    "        layers = []\n",
    "        for stride in strides:\n",
    "            layers.append(block(self.in_planes, planes, stride))\n",
    "            self.in_planes = planes * block.expansion\n",
    "        return nn.Sequential(*layers)\n",
    "\n",
    "    def forward(self, x):\n",
    "        out = self.conv1(x)\n",
    "        out = self.layer1(out)\n",
    "        out = self.layer2(out)\n",
    "        out = self.layer3(out)\n",
    "        out = self.layer4(out)\n",
    "        out = F.avg_pool2d(out, 4)\n",
    "        out = out.view(out.size(0), -1)\n",
    "        out = self.linear(out)\n",
    "        return out\n",
    "\n",
    "\n",
    "def PreActResNet18():\n",
    "    return PreActResNet(PreActBlock, [2, 2, 2, 2])\n",
    "\n",
    "\n",
    "def PreActResNet34():\n",
    "    return PreActResNet(PreActBlock, [3, 4, 6, 3])\n",
    "\n",
    "\n",
    "def PreActResNet50():\n",
    "    return PreActResNet(PreActBottleneck, [3, 4, 6, 3])\n",
    "\n",
    "\n",
    "def PreActResNet101():\n",
    "    return PreActResNet(PreActBottleneck, [3, 4, 23, 3])\n",
    "\n",
    "\n",
    "def PreActResNet152():\n",
    "    return PreActResNet(PreActBottleneck, [3, 8, 36, 3])\n",
    "\n",
    "\n",
    "model = PreActResNet34()\n",
    "model.to(device)\n",
    "\n",
    "pytorch_total_params = sum(p.numel() for p in model.parameters() if p.requires_grad)\n",
    "pytorch_total_params"
   ]
  },
  {
   "cell_type": "code",
   "execution_count": 4,
   "metadata": {},
   "outputs": [],
   "source": [
    "def cos_annealing_lr(initial_lr, cur_epoch, epoch_per_cycle):\n",
    "    return initial_lr * (np.cos(np.pi * cur_epoch / epoch_per_cycle) + 1) / 2"
   ]
  },
  {
   "cell_type": "code",
   "execution_count": 5,
   "metadata": {},
   "outputs": [
    {
     "name": "stdout",
     "output_type": "stream",
     "text": [
      "Snapshot # 1\n",
      "\n",
      "Epoch 0 | Learning Rate 0.2\n",
      "Epoch 0 | Epoch Train Loss 1.79185\n",
      "Epoch 0 | Epoch Train Acc 33.062%\n",
      "Epoch 0 | Epoch Test Loss 1.50295\n",
      "Epoch 0 | Epoch Test Acc 45.570%\n",
      "\n",
      "Epoch 1 | Learning Rate 0.1\n",
      "Epoch 1 | Epoch Train Loss 1.27935\n",
      "Epoch 1 | Epoch Train Acc 53.612%\n",
      "Epoch 1 | Epoch Test Loss 1.21946\n",
      "Epoch 1 | Epoch Test Acc 55.920%\n",
      "Snapshot # 2\n",
      "\n",
      "Epoch 0 | Learning Rate 0.2\n",
      "Epoch 0 | Epoch Train Loss 0.92321\n",
      "Epoch 0 | Epoch Train Acc 67.518%\n",
      "Epoch 0 | Epoch Test Loss 0.90642\n",
      "Epoch 0 | Epoch Test Acc 67.990%\n",
      "\n",
      "Epoch 1 | Learning Rate 0.1\n",
      "Epoch 1 | Epoch Train Loss 0.71524\n",
      "Epoch 1 | Epoch Train Acc 75.350%\n",
      "Epoch 1 | Epoch Test Loss 0.75433\n",
      "Epoch 1 | Epoch Test Acc 74.930%\n",
      "Snapshot # 3\n",
      "\n",
      "Epoch 0 | Learning Rate 0.2\n",
      "Epoch 0 | Epoch Train Loss 0.59733\n",
      "Epoch 0 | Epoch Train Acc 79.450%\n",
      "Epoch 0 | Epoch Test Loss 0.66949\n",
      "Epoch 0 | Epoch Test Acc 77.400%\n",
      "\n",
      "Epoch 1 | Learning Rate 0.1\n",
      "Epoch 1 | Epoch Train Loss 0.51374\n",
      "Epoch 1 | Epoch Train Acc 82.298%\n",
      "Epoch 1 | Epoch Test Loss 0.62425\n",
      "Epoch 1 | Epoch Test Acc 79.230%\n"
     ]
    }
   ],
   "source": [
    "# Change these params!\n",
    "n_cycle = 3\n",
    "initial_lr = 0.2\n",
    "epochs_per_cycle = 2\n",
    "\n",
    "lr_record = []\n",
    "train_loss_record = []\n",
    "train_acc_record = []\n",
    "\n",
    "test_loss_record = []\n",
    "test_acc_record = []\n",
    "\n",
    "optimizer = optim.SGD(model.parameters(), lr=initial_lr)\n",
    "criterion = nn.CrossEntropyLoss()\n",
    "\n",
    "for cycle in range(n_cycle):\n",
    "    print('Snapshot # {}'.format(cycle + 1))\n",
    "    for epoch in range(epochs_per_cycle):\n",
    "        epoch_loss = 0\n",
    "        total = 0\n",
    "        correct = 0\n",
    "        \n",
    "        lr = cos_annealing_lr(initial_lr, epoch, epochs_per_cycle)\n",
    "        optimizer.state_dict()['param_groups'][0]['lr'] = lr\n",
    "        \n",
    "        print('\\nEpoch {} | Learning Rate {}'.format(epoch, lr))\n",
    "        for batch_idx, (data, target) in enumerate(train_loader):\n",
    "            data, target = data.to(device), target.to(device)\n",
    "\n",
    "            optimizer.zero_grad()\n",
    "            output = model(data)\n",
    "            loss = criterion(output, target)\n",
    "            _, predicted = torch.max(output.data, 1)\n",
    "            loss.backward()\n",
    "            optimizer.step()\n",
    "            \n",
    "            total += target.size(0)\n",
    "            correct += (predicted == target).sum().item()\n",
    "            epoch_loss += loss.item() / len(train_loader)\n",
    "            \n",
    "            sys.stdout.write('\\rEpoch {} | Batch # {} Train Loss {:.5f} '.format(epoch, batch_idx, loss.item()))\n",
    "            \n",
    "        sys.stdout.write('\\rEpoch {} | Epoch Train Loss {:.5f}'.format(epoch, epoch_loss))\n",
    "        epoch_acc = correct / total * 100\n",
    "        print('\\nEpoch {} | Epoch Train Acc {:.3f}%'.format(epoch, epoch_acc))\n",
    "        \n",
    "        lr_record.append(lr)\n",
    "        train_loss_record.append(epoch_loss)\n",
    "        train_acc_record.append(epoch_acc)\n",
    "\n",
    "        # epoch evaluation\n",
    "        with torch.no_grad():\n",
    "            test_epoch_loss = 0\n",
    "            test_total = 0\n",
    "            test_correct = 0\n",
    "            \n",
    "            for batch_idx, (data, target) in enumerate(test_loader):\n",
    "                data, target = data.to(device), target.to(device)\n",
    "                \n",
    "                output = model(data)\n",
    "                loss = criterion(output, target)\n",
    "                _, predicted = torch.max(output.data, 1)\n",
    "                \n",
    "                test_total += target.size(0)\n",
    "                test_correct += (predicted == target).sum().item()\n",
    "                test_epoch_loss += loss.item() / len(test_loader)\n",
    "                \n",
    "            test_epoch_acc = test_correct / test_total * 100\n",
    "            print('Epoch {} | Epoch Test Loss {:.5f}'.format(epoch, test_epoch_loss))\n",
    "            print('Epoch {} | Epoch Test Acc {:.3f}%'.format(epoch, test_epoch_acc))\n",
    "            \n",
    "            test_loss_record.append(test_epoch_loss)\n",
    "            test_acc_record.append(test_epoch_acc)\n",
    "            \n",
    "    # TODO: Save model from each snapshot checkpoint..."
   ]
  },
  {
   "cell_type": "code",
   "execution_count": 6,
   "metadata": {},
   "outputs": [
    {
     "data": {
      "image/png": "[encoded data removed]",
      "text/plain": [
       "<Figure size 432x288 with 1 Axes>"
      ]
     },
     "metadata": {},
     "output_type": "display_data"
    }
   ],
   "source": [
    "plt.plot([i for i in range(epochs_per_cycle * n_cycle)], lr_record)\n",
    "plt.show()"
   ]
  },
  {
   "cell_type": "code",
   "execution_count": 7,
   "metadata": {},
   "outputs": [
    {
     "data": {
      "image/png": "[encoded data removed]",
      "text/plain": [
       "<Figure size 432x288 with 1 Axes>"
      ]
     },
     "metadata": {},
     "output_type": "display_data"
    }
   ],
   "source": [
    "plt.plot([i for i in range(epochs_per_cycle * n_cycle)], train_loss_record)\n",
    "plt.plot([i for i in range(epochs_per_cycle * n_cycle)], test_loss_record)\n",
    "plt.show()"
   ]
  },
  {
   "cell_type": "code",
   "execution_count": 8,
   "metadata": {},
   "outputs": [
    {
     "data": {
      "image/png": "[encoded data removed]",
      "text/plain": [
       "<Figure size 432x288 with 1 Axes>"
      ]
     },
     "metadata": {},
     "output_type": "display_data"
    }
   ],
   "source": [
    "plt.plot([i for i in range(epochs_per_cycle * n_cycle)], train_acc_record)\n",
    "plt.plot([i for i in range(epochs_per_cycle * n_cycle)], test_acc_record)\n",
    "plt.show()"
   ]
  }
 ],
 "metadata": {
  "kernelspec": {
   "display_name": "Python 3",
   "language": "python",
   "name": "python3"
  },
  "language_info": {
   "codemirror_mode": {
    "name": "ipython",
    "version": 3
   },
   "file_extension": ".py",
   "mimetype": "text/x-python",
   "name": "python",
   "nbconvert_exporter": "python",
   "pygments_lexer": "ipython3",
   "version": "3.6.5"
  }
 },
 "nbformat": 4,
 "nbformat_minor": 2
}
